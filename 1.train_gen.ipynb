{
 "cells": [
  {
   "cell_type": "code",
   "execution_count": 10,
   "id": "37e51b4d",
   "metadata": {},
   "outputs": [
    {
     "data": {
      "text/plain": [
       "'S276.21=-51.92*-5.32E'"
      ]
     },
     "execution_count": 10,
     "metadata": {},
     "output_type": "execute_result"
    }
   ],
   "source": [
    "%run common.ipynb\n",
    "\n",
    "tokenizer.decode(tokenizer.get_data(third_number=False))"
   ]
  },
  {
   "cell_type": "code",
   "execution_count": 11,
   "id": "b4ddfae2",
   "metadata": {},
   "outputs": [
    {
     "data": {
      "text/plain": [
       "(tensor([[ 1, 15, 10,  ..., 12,  2,  0],\n",
       "         [ 1, 15,  5,  ...,  2,  0,  0],\n",
       "         [ 1, 15,  5,  ..., 10,  2,  0],\n",
       "         ...,\n",
       "         [ 1,  7, 12,  ...,  2,  0,  0],\n",
       "         [ 1, 15,  5,  ...,  9, 12,  2],\n",
       "         [ 1, 10, 12,  ...,  0,  0,  0]], device='cuda:0'),\n",
       " tensor([[1, 1, 1,  ..., 1, 1, 0],\n",
       "         [1, 1, 1,  ..., 1, 0, 0],\n",
       "         [1, 1, 1,  ..., 1, 1, 0],\n",
       "         ...,\n",
       "         [1, 1, 1,  ..., 1, 0, 0],\n",
       "         [1, 1, 1,  ..., 1, 1, 1],\n",
       "         [1, 1, 1,  ..., 0, 0, 0]], device='cuda:0'))"
      ]
     },
     "execution_count": 11,
     "metadata": {},
     "output_type": "execute_result"
    }
   ],
   "source": [
    "def get_batch_data():\n",
    "    data = [tokenizer.get_data(third_number=False) for i in range(64)]\n",
    "\n",
    "    #求最大长度\n",
    "    lens = max([len(i) for i in data])\n",
    "\n",
    "    #做个白板\n",
    "    input_ids = torch.full((len(data), lens),\n",
    "                           tokenizer.encoder['P'],\n",
    "                           device=device)\n",
    "\n",
    "    #往白板里黏贴数据\n",
    "    for i, d in enumerate(data):\n",
    "        input_ids[i, :len(d)] = torch.LongTensor(d)\n",
    "\n",
    "    attention_mask = (input_ids != tokenizer.encoder['P']).long()\n",
    "\n",
    "    return input_ids, attention_mask\n",
    "\n",
    "\n",
    "get_batch_data()"
   ]
  },
  {
   "cell_type": "code",
   "execution_count": 12,
   "id": "eb9fe446",
   "metadata": {
    "scrolled": false
   },
   "outputs": [
    {
     "name": "stderr",
     "output_type": "stream",
     "text": [
      "A decoder-only architecture is being used, but right-padding was detected! For correct generation results, please set `padding_side='left'` when initializing the tokenizer.\n"
     ]
    },
    {
     "name": "stdout",
     "output_type": "stream",
     "text": [
      "0 S-53.07=-3.95-49.12EPPP63U2P=-:+/-0.7.6*..UU3=23E\n"
     ]
    },
    {
     "name": "stderr",
     "output_type": "stream",
     "text": [
      "A decoder-only architecture is being used, but right-padding was detected! For correct generation results, please set `padding_side='left'` when initializing the tokenizer.\n"
     ]
    },
    {
     "name": "stdout",
     "output_type": "stream",
     "text": [
      "100 S-37.27=-18.38-18.89EPP3+731E\n"
     ]
    },
    {
     "name": "stderr",
     "output_type": "stream",
     "text": [
      "A decoder-only architecture is being used, but right-padding was detected! For correct generation results, please set `padding_side='left'` when initializing the tokenizer.\n"
     ]
    },
    {
     "name": "stdout",
     "output_type": "stream",
     "text": [
      "200 S1384.21=19.69*70.30EPP-6E\n",
      "300 S-147.17=-48.44+-98.73E4E\n"
     ]
    },
    {
     "name": "stderr",
     "output_type": "stream",
     "text": [
      "A decoder-only architecture is being used, but right-padding was detected! For correct generation results, please set `padding_side='left'` when initializing the tokenizer.\n"
     ]
    },
    {
     "name": "stdout",
     "output_type": "stream",
     "text": [
      "400 S154.71=89.72+64.99EPPP:3.3E\n"
     ]
    },
    {
     "name": "stderr",
     "output_type": "stream",
     "text": [
      "A decoder-only architecture is being used, but right-padding was detected! For correct generation results, please set `padding_side='left'` when initializing the tokenizer.\n"
     ]
    },
    {
     "name": "stdout",
     "output_type": "stream",
     "text": [
      "500 S49.26=53.75-4.49EPPPPP--23E\n"
     ]
    },
    {
     "name": "stderr",
     "output_type": "stream",
     "text": [
      "A decoder-only architecture is being used, but right-padding was detected! For correct generation results, please set `padding_side='left'` when initializing the tokenizer.\n"
     ]
    },
    {
     "name": "stdout",
     "output_type": "stream",
     "text": [
      "600 S-4.18=-44.98/10.76EPPP+-6.5E\n"
     ]
    },
    {
     "name": "stderr",
     "output_type": "stream",
     "text": [
      "A decoder-only architecture is being used, but right-padding was detected! For correct generation results, please set `padding_side='left'` when initializing the tokenizer.\n"
     ]
    },
    {
     "name": "stdout",
     "output_type": "stream",
     "text": [
      "700 S-0.47=40.22/-85.29EPPP--3.9E\n"
     ]
    },
    {
     "name": "stderr",
     "output_type": "stream",
     "text": [
      "A decoder-only architecture is being used, but right-padding was detected! For correct generation results, please set `padding_side='left'` when initializing the tokenizer.\n"
     ]
    },
    {
     "name": "stdout",
     "output_type": "stream",
     "text": [
      "800 S0.73=-59.37/-81.02EPPP--22.5E\n",
      "900 S1108.61=-16.13*-68.73EU5E\n"
     ]
    }
   ],
   "source": [
    "model_gen = ModelGEN()\n",
    "optimizer = torch.optim.Adam(model_gen.parameters(), lr=1e-4)\n",
    "criterion = torch.nn.CrossEntropyLoss(ignore_index=tokenizer.encoder['P'])\n",
    "\n",
    "for i in range(1000):\n",
    "    input_ids, attention_mask = get_batch_data()\n",
    "\n",
    "    out = model_gen(input_ids=input_ids, attention_mask=attention_mask)\n",
    "\n",
    "    loss = criterion(out[:, :-1].flatten(end_dim=1), input_ids[:,\n",
    "                                                               1:].flatten())\n",
    "    loss.backward()\n",
    "    optimizer.step()\n",
    "    optimizer.zero_grad()\n",
    "\n",
    "    if i % 100 == 0:\n",
    "        gen = generate(model_gen, input_ids[0].unsqueeze(0))\n",
    "        print(i, tokenizer.decode(gen[0].tolist()))\n",
    "\n",
    "model_gen.to('cuda')\n",
    "torch.save(model_gen, 'gen.model')"
   ]
  },
  {
   "cell_type": "code",
   "execution_count": null,
   "id": "ec29ec5f",
   "metadata": {},
   "outputs": [],
   "source": []
  }
 ],
 "metadata": {
  "kernelspec": {
   "display_name": "base",
   "language": "python",
   "name": "python3"
  },
  "language_info": {
   "codemirror_mode": {
    "name": "ipython",
    "version": 3
   },
   "file_extension": ".py",
   "mimetype": "text/x-python",
   "name": "python",
   "nbconvert_exporter": "python",
   "pygments_lexer": "ipython3",
   "version": "3.10.8"
  }
 },
 "nbformat": 4,
 "nbformat_minor": 5
}
